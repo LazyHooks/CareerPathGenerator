{
  "nbformat": 4,
  "nbformat_minor": 0,
  "metadata": {
    "colab": {
      "name": "BPO_attr.ipynb",
      "provenance": [],
      "authorship_tag": "ABX9TyPtl0t+OVrhtrpkyMDyqOWb",
      "include_colab_link": true
    },
    "kernelspec": {
      "name": "python3",
      "display_name": "Python 3"
    },
    "language_info": {
      "name": "python"
    }
  },
  "cells": [
    {
      "cell_type": "markdown",
      "metadata": {
        "id": "view-in-github",
        "colab_type": "text"
      },
      "source": [
        "<a href=\"https://colab.research.google.com/github/LazyHooks/CareerPathGenerator/blob/main/outward_overlap.ipynb\" target=\"_parent\"><img src=\"https://colab.research.google.com/assets/colab-badge.svg\" alt=\"Open In Colab\"/></a>"
      ]
    },
    {
      "cell_type": "code",
      "source": [
        "import pandas as pd\n",
        "jobs = pd.read_csv('job.csv')\n",
        "clust = pd.read_csv('clust.csv')\n",
        "ovr = pd.read_csv('ovr.csv')"
      ],
      "metadata": {
        "id": "Wx8hEr58wfBi"
      },
      "execution_count": 71,
      "outputs": []
    },
    {
      "cell_type": "code",
      "source": [
        "clust.iloc[0,42]"
      ],
      "metadata": {
        "id": "9cQ5thxj2EHI",
        "outputId": "96ff085d-8600-409a-94dd-c894821d699e",
        "colab": {
          "base_uri": "https://localhost:8080/"
        }
      },
      "execution_count": 72,
      "outputs": [
        {
          "output_type": "execute_result",
          "data": {
            "text/plain": [
              "0"
            ]
          },
          "metadata": {},
          "execution_count": 72
        }
      ]
    },
    {
      "cell_type": "code",
      "source": [
        "njobs=145\n",
        "ncomp=67\n",
        "nclust=43"
      ],
      "metadata": {
        "id": "_bSaTiqTx8dF"
      },
      "execution_count": 73,
      "outputs": []
    },
    {
      "cell_type": "code",
      "source": [
        "for i in range(njobs):\n",
        "  for k in range(nclust):\n",
        "    count=0\n",
        "    for j in range (1,ncomp):\n",
        "      if(jobs.iloc[i,j]>clust.iloc[k,j]):\n",
        "        count=count+1\n",
        "    ovr.iloc[i,k+1]=count"
      ],
      "metadata": {
        "id": "rU0piBgvx0jH"
      },
      "execution_count": 74,
      "outputs": []
    },
    {
      "cell_type": "code",
      "source": [
        "ovr.to_csv('overlap.csv')"
      ],
      "metadata": {
        "id": "39k0Un7ayphz"
      },
      "execution_count": 75,
      "outputs": []
    }
  ]
}